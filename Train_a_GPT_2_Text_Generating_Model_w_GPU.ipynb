{
  "nbformat": 4,
  "nbformat_minor": 0,
  "metadata": {
    "colab": {
      "name": "Train a GPT-2 Text-Generating Model w/ GPU",
      "version": "0.3.2",
      "provenance": [],
      "collapsed_sections": [],
      "toc_visible": true,
      "include_colab_link": true
    },
    "kernelspec": {
      "name": "python3",
      "display_name": "Python 3"
    },
    "accelerator": "GPU"
  },
  "cells": [
    {
      "cell_type": "markdown",
      "metadata": {
        "id": "view-in-github",
        "colab_type": "text"
      },
      "source": [
        "<a href=\"https://colab.research.google.com/github/AlphaGit/gpt-2-simple/blob/master/Train_a_GPT_2_Text_Generating_Model_w_GPU.ipynb\" target=\"_parent\"><img src=\"https://colab.research.google.com/assets/colab-badge.svg\" alt=\"Open In Colab\"/></a>"
      ]
    },
    {
      "metadata": {
        "id": "H7LoMj4GA4n_",
        "colab_type": "text"
      },
      "cell_type": "markdown",
      "source": [
        "#  Train a GPT-2 Text-Generating Model w/ GPU\n",
        "\n",
        "by [Max Woolf](http://minimaxir.com)\n",
        "\n",
        "*Last updated: April 18, 2019*\n",
        "\n",
        "Retrain an advanced text generating neural network on any text dataset **for free on a GPU using Collaboratory** using `gpt-2-simple`!\n",
        "\n",
        "For more about `gpt-2-simple`, you can visit [this GitHub repository](https://github.com/minimaxir/gpt-2-simple).\n",
        "\n",
        "\n",
        "To get started:\n",
        "\n",
        "1. Copy this notebook to your Google Drive to keep it and save your changes. (File -> Save a Copy in Drive)\n",
        "2. Make sure you're running the notebook in Google Chrome.\n",
        "3. Run the cells below:\n"
      ]
    },
    {
      "metadata": {
        "id": "KBkpRgBCBS2_",
        "colab_type": "code",
        "colab": {}
      },
      "cell_type": "code",
      "source": [
        "!pip install -q gpt_2_simple\n",
        "import gpt_2_simple as gpt2\n",
        "from datetime import datetime\n",
        "from google.colab import files"
      ],
      "execution_count": 0,
      "outputs": []
    },
    {
      "metadata": {
        "id": "0wXB05bPDYxS",
        "colab_type": "text"
      },
      "cell_type": "markdown",
      "source": [
        "## Downloading GPT-2\n",
        "\n",
        "If you're retraining a model on new text, you need to download GPT-2 first. The next cell downloads it from Google Cloud Storage and saves it in `/models/117M`.\n",
        "\n",
        "This model isn't saved in the Colaboratory VM; you'll have to redownload it if you want to retrain it at a later time."
      ]
    },
    {
      "metadata": {
        "id": "P8wSlgXoDPCR",
        "colab_type": "code",
        "outputId": "77977a80-03d3-4dd3-89d6-b923c0dee1ef",
        "colab": {
          "base_uri": "https://localhost:8080/",
          "height": 136
        }
      },
      "cell_type": "code",
      "source": [
        "gpt2.download_gpt2()"
      ],
      "execution_count": 0,
      "outputs": [
        {
          "output_type": "stream",
          "text": [
            "Fetching checkpoint: 1.00kit [00:00, 814kit/s]                                                      \n",
            "Fetching encoder.json: 1.04Mit [00:00, 12.4Mit/s]                                                   \n",
            "Fetching hparams.json: 1.00kit [00:00, 198kit/s]                                                    \n",
            "Fetching model.ckpt.data-00000-of-00001: 498Mit [00:07, 67.7Mit/s]                                  \n",
            "Fetching model.ckpt.index: 6.00kit [00:00, 2.87Mit/s]                                               \n",
            "Fetching model.ckpt.meta: 472kit [00:00, 18.7Mit/s]                                                 \n",
            "Fetching vocab.bpe: 457kit [00:00, 36.1Mit/s]                                                       \n"
          ],
          "name": "stderr"
        }
      ]
    },
    {
      "metadata": {
        "id": "N8KXuKWzQSsN",
        "colab_type": "text"
      },
      "cell_type": "markdown",
      "source": [
        "## Mounting Google Drive\n",
        "\n",
        "The best way to get input text to-be-trained into the Colaboratory VM, and to get the trained model *out* of the VM, is to route it through Google Drive *first*.\n",
        "\n",
        "Running this cell (which will only work in Colaboratory) will mount your personal Google Drive in the VM, which later cells can use to get data in/out. (it will ask for an auth code; that auth is not saved anywhere)"
      ]
    },
    {
      "metadata": {
        "id": "puq4iC6vUAHc",
        "colab_type": "code",
        "outputId": "bde0740c-db74-4f36-bfa3-bd6c3ab32d82",
        "colab": {
          "base_uri": "https://localhost:8080/",
          "height": 34
        }
      },
      "cell_type": "code",
      "source": [
        "gpt2.mount_gdrive()"
      ],
      "execution_count": 0,
      "outputs": [
        {
          "output_type": "stream",
          "text": [
            "Drive already mounted at /content/drive; to attempt to forcibly remount, call drive.mount(\"/content/drive\", force_remount=True).\n"
          ],
          "name": "stdout"
        }
      ]
    },
    {
      "metadata": {
        "id": "BT__brhBCvJu",
        "colab_type": "text"
      },
      "cell_type": "markdown",
      "source": [
        "## Uploading a Text File to be Trained to Colaboratory\n",
        "\n",
        "In the Colaboratory Notebook sidebar on the left of the screen, select *Files*. From there you can upload files:\n",
        "\n",
        "![alt text](https://i.imgur.com/TGcZT4h.png)\n",
        "\n",
        "Upload **any smaller text file**  (<10 MB) and update the file name in the cell below, then run the cell."
      ]
    },
    {
      "metadata": {
        "id": "6OFnPCLADfll",
        "colab_type": "code",
        "colab": {}
      },
      "cell_type": "code",
      "source": [
        "file_name = \"text_source.txt\""
      ],
      "execution_count": 0,
      "outputs": []
    },
    {
      "metadata": {
        "id": "HeeSKtNWUedE",
        "colab_type": "text"
      },
      "cell_type": "markdown",
      "source": [
        "If your text file is larger than 10MB, it is recommended to upload that file to Google Drive first, then copy that file from Google Drive to the Colaboratory VM."
      ]
    },
    {
      "metadata": {
        "id": "-Z6okFD8VKtS",
        "colab_type": "code",
        "colab": {}
      },
      "cell_type": "code",
      "source": [
        "gpt2.copy_file_from_gdrive(file_name)"
      ],
      "execution_count": 0,
      "outputs": []
    },
    {
      "metadata": {
        "id": "LdpZQXknFNY3",
        "colab_type": "text"
      },
      "cell_type": "markdown",
      "source": [
        "## Finetune GPT-2\n",
        "\n",
        "The next cell will start the actual finetuning. It creates a persistent TensorFlow session which stores the training config, then runs the training to the number of `steps`. (to have the finetuning run indefinitely, set `steps = -1`)\n",
        "\n",
        "The model checkpoints will be saved in `/checkpoint/117M` by default. The checkpoints are saved every 1000 steps (can be changed) and when the cell is stopped.\n",
        "\n",
        "The training might time out after 4ish hours; make sure you end training and save the results so you don't lose them!\n",
        "\n",
        "**IMPORTANT NOTE:** If you want to rerun this cell, **restart the VM first** (Runtime -> Restart Runtime). You will need to rerun imports but not recopy files."
      ]
    },
    {
      "metadata": {
        "id": "aeXshJM-Cuaf",
        "colab_type": "code",
        "outputId": "f5e764ce-ce49-40a6-aa3d-bac577c4c6d6",
        "colab": {
          "base_uri": "https://localhost:8080/",
          "height": 6242
        }
      },
      "cell_type": "code",
      "source": [
        "sess = gpt2.start_tf_sess()\n",
        "\n",
        "gpt2.finetune(sess,\n",
        "              dataset=file_name,\n",
        "              steps=2000,\n",
        "              restore_from='fresh',   # change to 'latest' to resume training\n",
        "              print_every=10,   # how many steps between printing progress\n",
        "              sample_every=200,   # how many steps to print a demo sample\n",
        "              save_every=100   # how many steps between saving checkpoint\n",
        "              )"
      ],
      "execution_count": 0,
      "outputs": [
        {
          "output_type": "stream",
          "text": [
            "WARNING:tensorflow:From /usr/local/lib/python3.6/dist-packages/tensorflow/python/framework/op_def_library.py:263: colocate_with (from tensorflow.python.framework.ops) is deprecated and will be removed in a future version.\n",
            "Instructions for updating:\n",
            "Colocations handled automatically by placer.\n",
            "WARNING:tensorflow:From /usr/local/lib/python3.6/dist-packages/gpt_2_simple/src/sample.py:51: to_float (from tensorflow.python.ops.math_ops) is deprecated and will be removed in a future version.\n",
            "Instructions for updating:\n",
            "Use tf.cast instead.\n",
            "WARNING:tensorflow:From /usr/local/lib/python3.6/dist-packages/gpt_2_simple/src/sample.py:53: multinomial (from tensorflow.python.ops.random_ops) is deprecated and will be removed in a future version.\n",
            "Instructions for updating:\n",
            "Use tf.random.categorical instead.\n",
            "WARNING:tensorflow:From /usr/local/lib/python3.6/dist-packages/tensorflow/python/ops/math_ops.py:3066: to_int32 (from tensorflow.python.ops.math_ops) is deprecated and will be removed in a future version.\n",
            "Instructions for updating:\n",
            "Use tf.cast instead.\n",
            "WARNING:tensorflow:From /usr/local/lib/python3.6/dist-packages/tensorflow/python/ops/math_grad.py:102: div (from tensorflow.python.ops.math_ops) is deprecated and will be removed in a future version.\n",
            "Instructions for updating:\n",
            "Deprecated in favor of operator or tf.math.divide.\n",
            "Loading checkpoint models/117M/model.ckpt\n",
            "WARNING:tensorflow:From /usr/local/lib/python3.6/dist-packages/tensorflow/python/training/saver.py:1266: checkpoint_exists (from tensorflow.python.training.checkpoint_management) is deprecated and will be removed in a future version.\n",
            "Instructions for updating:\n",
            "Use standard file APIs to check for files with this prefix.\n",
            "INFO:tensorflow:Restoring parameters from models/117M/model.ckpt\n"
          ],
          "name": "stdout"
        },
        {
          "output_type": "stream",
          "text": [
            "100%|██████████| 1/1 [00:00<00:00, 629.78it/s]"
          ],
          "name": "stderr"
        },
        {
          "output_type": "stream",
          "text": [
            "Loading dataset...\n",
            "dataset has 3907 tokens\n",
            "Training...\n"
          ],
          "name": "stdout"
        },
        {
          "output_type": "stream",
          "text": [
            "\n"
          ],
          "name": "stderr"
        },
        {
          "output_type": "stream",
          "text": [
            "[1010 | 30.05] loss=2.26 avg=2.26\n",
            "[1020 | 53.09] loss=0.95 avg=1.61\n",
            "[1030 | 76.86] loss=0.13 avg=1.11\n",
            "[1040 | 101.15] loss=0.20 avg=0.88\n",
            "[1050 | 124.73] loss=0.03 avg=0.71\n",
            "[1060 | 148.21] loss=0.02 avg=0.59\n",
            "[1070 | 172.02] loss=0.02 avg=0.51\n",
            "[1080 | 195.84] loss=0.02 avg=0.44\n",
            "[1090 | 219.48] loss=0.03 avg=0.39\n",
            "Saving checkpoint/run1/model-1100\n",
            "[1100 | 248.01] loss=0.02 avg=0.36\n",
            "[1110 | 271.76] loss=0.01 avg=0.32\n",
            "[1120 | 295.68] loss=0.02 avg=0.30\n",
            "[1130 | 319.39] loss=0.02 avg=0.27\n",
            "[1140 | 343.09] loss=0.01 avg=0.25\n",
            "[1150 | 366.82] loss=0.01 avg=0.24\n",
            "[1160 | 390.58] loss=0.02 avg=0.22\n",
            "[1170 | 414.37] loss=0.01 avg=0.21\n",
            "[1180 | 438.13] loss=0.02 avg=0.20\n",
            "[1190 | 461.89] loss=0.01 avg=0.19\n",
            "Saving checkpoint/run1/model-1200\n",
            "WARNING:tensorflow:From /usr/local/lib/python3.6/dist-packages/tensorflow/python/training/saver.py:966: remove_checkpoint (from tensorflow.python.training.checkpoint_management) is deprecated and will be removed in a future version.\n",
            "Instructions for updating:\n",
            "Use standard file APIs to delete files with this prefix.\n",
            "======== SAMPLE 1 ========\n",
            " the word ‘stereo” and i think thats great\n",
            "How is that great?\n",
            "Some things just are<|endoftext|>\n",
            "New Yorkers say Mario the same way normal people say the word ‘stereo” and i think thats great<|endoftext|>\n",
            "the club penguin staff would never treat their users like this is all im saying<|endoftext|>\n",
            "do you ever just want to flush yourself down the toilet because u realise u are a piece of shit<|endoftext|>\n",
            "me taking a selfie<|endoftext|>\n",
            "when your parents break a promise<|endoftext|>\n",
            "i hate when things happen!<|endoftext|>\n",
            "when ur not getting enough attention from ur followers<|endoftext|>\n",
            "my anaconda don’t want none unless u got hot cross buns hot cross buns one a penny two a penny hot cross buns<|endoftext|>\n",
            "Me: *finally finds peace and happiness in life*\n",
            "That bullshit:<|endoftext|>\n",
            "u still use a nokia?? haha loser btw how was bingo night did u remember to take ur medication?<|endoftext|>\n",
            "romanticize me being ugly<|endoftext|>\n",
            "naruto wouldn’t treat me like this<|endoftext|>\n",
            "dermatologists HATE me. everyone hates me. i’m so alone<|endoftext|>\n",
            "99.9% of the people on this website are stupid\n",
            "i am the 1%\n",
            "dumbass you mean 0.1%<|endoftext|>\n",
            "Ratatouille was a forgettable film<|endoftext|>\n",
            "what if a bobcat had a bob cut\n",
            "that bob cat is out on the prowl for the manager<|endoftext|>\n",
            "i been dying for a minute\n",
            "You’ve been dying your whole life<|endoftext|>\n",
            "i eat the tools\n",
            "Stop it\n",
            "crumch<|endoftext|>\n",
            "Eat Fruit Or Die Trying<|endoftext|>\n",
            "y’oint\n",
            "y’yint’ve’mst\n",
            "what does this mean\n",
            "it’s more about the emotion it invokes<|endoftext|>\n",
            "*MICKEY MOUSE VOICE* YOURE ABOUT TO EXPERIENCE THE WRATH OF A GOD<|endoftext|>\n",
            "Honestly I’m convinced isn’t even a real person. I feel like if I saw him irl I’d black out instantly and wake up three days later in an abandoned Ikea<|endoftext|>\n",
            "girl on the bus next to me: ive only eaten things that start with b today\n",
            "that is how i want to live my life\n",
            "She was warning you about the fate of the bus you were all in<|endoftext|>\n",
            "just bought this tapeworm from etsy!\n",
            "where are you gonna keep it\n",
            ":)\n",
            "I don’t like this post very much<|endoftext|>\n",
            "not safe for frog haters<|endoftext|>\n",
            "Put Seth Everman in Smash<|endoftext|>\n",
            "Gets 3 XP for wandering into a corner of my bathroom I’ve technically never set a literal foot in before and I see the floating text ‘DISCOVERED: CHOLERA COLONY’ seemingly appear out of thin air before gently fading away<|endoftext|>\n",
            "*from computer speakers* vsauce, *from suddenly behind you* michael here\n",
            "*from inside your head* what if you were defenseless<|endoftext|>\n",
            "When you walk behind your group cuz u walm too fast but u end up kicking their heels\n",
            "walm\n",
            "walm\n",
            "walm\n",
            "walm\n",
            "walm\n",
            "get his ass<|endoftext|>\n",
            "i refuse to believe seth everman was born<|endoftext|>\n",
            "hey ;) guys ;) i’m ;) 6’7’’ ;)\n",
            "this is by far the easiest way to get one hundred asks in less than one minute.<|endoftext|>\n",
            "hey ;) guys ;) i’m ;) 6’7’’ ;)<|endoftext|>\n",
            "seth everman is the only attractive person that uses tumblr\n",
            "staff really deleted all other users huh<|endoftext|>\n",
            "「 🌈 」<|endoftext|>\n",
            "seth everman could commit a murder and then tweet “murders are for losers. which is why i did it” and everyone would just rt, comment ‘same’\n",
            "\n",
            "[1200 | 502.60] loss=0.01 avg=0.18\n",
            "[1210 | 526.40] loss=0.01 avg=0.17\n",
            "[1220 | 550.13] loss=0.01 avg=0.16\n",
            "[1230 | 573.87] loss=0.01 avg=0.15\n",
            "[1240 | 597.56] loss=0.01 avg=0.15\n",
            "[1250 | 621.27] loss=0.01 avg=0.14\n",
            "[1260 | 644.97] loss=0.01 avg=0.13\n",
            "[1270 | 668.70] loss=0.01 avg=0.13\n",
            "[1280 | 692.39] loss=0.01 avg=0.12\n",
            "[1290 | 716.09] loss=0.01 avg=0.12\n",
            "Saving checkpoint/run1/model-1300\n",
            "[1300 | 743.48] loss=0.01 avg=0.12\n",
            "[1310 | 767.20] loss=0.01 avg=0.11\n",
            "[1320 | 791.00] loss=0.01 avg=0.11\n",
            "[1330 | 814.70] loss=0.02 avg=0.11\n",
            "[1340 | 838.36] loss=0.01 avg=0.10\n",
            "[1350 | 862.02] loss=0.01 avg=0.10\n",
            "[1360 | 885.74] loss=0.01 avg=0.10\n",
            "[1370 | 909.48] loss=0.01 avg=0.09\n",
            "[1380 | 933.22] loss=0.01 avg=0.09\n",
            "[1390 | 956.98] loss=0.01 avg=0.09\n",
            "Saving checkpoint/run1/model-1400\n",
            "======== SAMPLE 1 ========\n",
            " at the moon\n",
            "meddling<|endoftext|>\n",
            "drake?\n",
            "josh?\n",
            "where’s the body of christ?<|endoftext|>\n",
            "what if a bobcat had a bob cut\n",
            "that bob cat is out on the prowl for the manager<|endoftext|>\n",
            "you have not experienced true fear until a poster falls down in the middle of the night\n",
            "One time I thought a poster had fallen down in the middle of the night, but when I turned on my light, it actually was an opossum that fell through my ceiling into my room. So, that’s actually true fear.\n",
            "oh.\n",
            "Nah that’s free possum<|endoftext|>\n",
            "what base is sharing furry art\n",
            "fukc you. fuck you fyc k you FUCK YIU fuck yifu fuci u ou<|endoftext|>\n",
            "y’oint\n",
            "y’yint’ve’mst\n",
            "what does this mean\n",
            "it’s more about the emotion it invokes<|endoftext|>\n",
            "okay. i will consider this<|endoftext|>\n",
            "emperor of rome (self-diagnosed)<|endoftext|>\n",
            "Jesus, after coming back from the dead: hey guys it’s me Jesus, just look at the scars on my hands\n",
            "Thomas, a known freak: show us the feet as well please<|endoftext|>\n",
            "Norwegian prisons are nicer than my apartment.\n",
            "holy shit dude\n",
            "I was really shocked by this and dubious, so I decided to read further. There’s a great article about this here: http://www.bbc.com/news/magazine-35813470\n",
            "As it turns out, this is more like a halfway house. Prisoners usually begin their term in a prison more like one we’d typically recognize - bars on the windows, locked in their cells. But the emphasis there is on successful reintegration into society. \n",
            "As their sentence progresses, with good behavior, they can move into a facility more like this, where their freedoms are still restricted, but they can do things like network with people outside of prison, search for employment, cook and clean and look after themselves, and begin making plans for their reintegration into society. \n",
            "As a result, Norway has one of the lowest rates of recidisvism. 20% as opposed to America’s 76%. \n",
            "It seems like a shocking idea to us because of where and how we live, but apparently, Norwegians are addressing the real problem. When you take people who can’t function well in society, and then…help them do that?…they….do. Without the crime-ing. \n",
            "Turns out treating people like human beings makes them more likely to act like human beings….\n",
            "But won’t that incentivize some people to go back there since they get treated so well and get a nice room versus the streets?\n",
            "If you read the post above, it says Norway’s recidivism rate - that is, the rate of released criminals who go on to be arrested again - is 20% versus 76% in the United States, so for the most part, no.\n",
            "Isn’t that white-lined black cross on a red field flag a Nazi flag? Are we going to talk about how wonderful it is a Nazi gets a nice halfway house?\n",
            "LMFAOOOOOOOOOOOOOOOOOOOOOOOO\n",
            "Are you fucking kidding me lmao\n",
            "Godwin’s law in action\n",
            "God fucking dammit, tumblr. You never fail to disappoint<|endoftext|>\n",
            "Like no offense to my friends and family but if I had the chance to abandon this timeline for a medieval fantasy land I would absolutely do it, goodbye student loans and depression hello cool magic shit and most likely an early death by the sword (as it should be)\n",
            "Have fun shitting in outhouses and losing loved ones to the plague™\n",
            "meddling in outhouses and losing loved ones to the Goblin Raiders™\n",
            "That’s more the fuck like it<|endoftext|>\n",
            "It’s with great pain that I must announce you were devoured by clowns.\n",
            "Turn to page 14 to climb into the clowns jaws.\n",
            "Turn to page 6 to turn around and walk away.\n",
            "It’s with great pain that I must announce you were devoured by clowns.\n",
            "It’s with great pain that I must announce you were devoured by clowns.<|endoftext|>\n",
            "My sister just walked into my room, grunted “oil” and promptly collapsed on the floor\n",
            "Fuck she got possessed by america<|endoftext|>\n",
            "ok but what if like. werewolves transform\n",
            "\n",
            "[1400 | 996.75] loss=0.01 avg=0.09\n",
            "[1410 | 1020.54] loss=0.01 avg=0.08\n",
            "[1420 | 1044.25] loss=0.01 avg=0.08\n",
            "[1430 | 1067.94] loss=0.01 avg=0.08\n",
            "[1440 | 1091.61] loss=0.01 avg=0.08\n",
            "[1450 | 1115.25] loss=0.01 avg=0.08\n",
            "[1460 | 1138.91] loss=0.01 avg=0.07\n",
            "[1470 | 1162.56] loss=0.01 avg=0.07\n",
            "[1480 | 1186.23] loss=0.01 avg=0.07\n",
            "[1490 | 1209.90] loss=0.01 avg=0.07\n",
            "Saving checkpoint/run1/model-1500\n",
            "[1500 | 1237.76] loss=0.01 avg=0.07\n",
            "[1510 | 1261.50] loss=0.01 avg=0.07\n",
            "[1520 | 1285.32] loss=0.01 avg=0.06\n",
            "[1530 | 1309.08] loss=0.01 avg=0.06\n",
            "[1540 | 1332.72] loss=0.01 avg=0.06\n",
            "[1550 | 1356.39] loss=0.01 avg=0.06\n",
            "[1560 | 1380.03] loss=0.01 avg=0.06\n",
            "[1570 | 1403.70] loss=0.01 avg=0.06\n",
            "[1580 | 1427.39] loss=0.01 avg=0.06\n",
            "[1590 | 1451.11] loss=0.01 avg=0.06\n",
            "Saving checkpoint/run1/model-1600\n",
            "======== SAMPLE 1 ========\n",
            "\n",
            "why are we still here? just to suffer? every day i get emails<|endoftext|>\n",
            "catfish simultaneously look like they possess infinite knowledge of the universe and like they just have the mii theme playing in their head nonstop\n",
            "you see what i mean\n",
            "they know everything but it all cancels out<|endoftext|>\n",
            "posting on this website is like being a court jester performing for other rival fools\n",
            "clown regionals<|endoftext|>\n",
            "hm\n",
            "summer outfit (w/ accessory)\n",
            "This is lesbian culture<|endoftext|>\n",
            "im glad people are finally recognizing just how fucking stupid shower thoughts is and how 90% of the time it’s just like “if you hold a sword in real life its like you’re in skyrim” \n",
            "This was the one and only good shower thoughts post I could find:<|endoftext|>\n",
            "im glad people are finally recognizing just how fucking stupid shower thoughts is and how 90% of the time it’s just like “if you hold a sword in real life its like you’re in skyrim” \n",
            "This was the one and only good shower thoughts post I could find:<|endoftext|>\n",
            "im glad people are finally recognizing just how fucking stupid shower thoughts is and how 90% of the time it’s just like “if you hold a sword in real life its like you’re in skyrim”<|endoftext|>\n",
            "insta-depression phrase: “we got food at the house”\n",
            "but we do got food at the house why waste our money<|endoftext|>\n",
            "insta-depression phrase: “we got food at the house”<|endoftext|>\n",
            "Hey so I sold some very big instruments and got a really fancy synth, like super fancy. Anyways on this fancy professional machine made for the best of the best, there’s a sound preset called ‘cat in space’ and it sounds EXACTLY like what you think it does<|endoftext|>\n",
            "Hey you love your friends, don’t you. *pushes you* don’t you<|endoftext|>\n",
            "OPEN RP:\n",
            "YOU’RE STANDING OUT IN A GREEN OPEN FIELD\n",
            "I shout to the distance.\n",
            "“H-hewwo? Is anybody thewe?”\n",
            "*THE TROTTING OF A MAN IS HEARD COMING YOUR WAY*\n",
            "Now in eye-sight, he walks up to you. A small cube is held magically in his nub-hand. He waves his arm in front of you, a three foot tall cube of solid brick manifests in front of you. His thousand-yard stare seems to acknowledge your existence, but as soon as he’s there, he walks away. \n",
            "That’s right babe…. you’re in minecraft\n",
            "RP CLOSED<|endoftext|>\n",
            "OPEN RP:\n",
            "YOU’RE STANDING OUT IN A GREEN OPEN FIELD<|endoftext|>\n",
            "i dont even know if I hate the Joker or just people who associate themselves with the Joker \n",
            "Why so serious? \n",
            "I’m going to scissor kick you<|endoftext|>\n",
            "i dont even know if I hate the Joker or just people who associate themselves with the Joker<|endoftext|>\n",
            "Sometimes i look at the moon and im reminded “oh yeah, thats the most beautiful thing ive ever seen”\n",
            "You two are also beautiful people!!!!<|endoftext|>\n",
            "Sometimes i look at the moon and im reminded “oh yeah, thats the most beautiful thing ive ever seen”<|endoftext|>\n",
            "Where the shit do people online shop? who here fashionable? give me your secrets<|endoftext|>\n",
            "Cool, new smash bros content the day my switch is stolen :) time to die<|endoftext|>\n",
            "I think we should make it illegal to be mean to me whos with me\n",
            "Not me\n",
            "In my new world you’d be put to death for such indiscretions<|endoftext|>\n",
            "I think we should make it illegal to be mean to me whos with me<|endoftext|>\n",
            "New Yorkers say Mario the same way normal people say the word ‘stereo’ and i think thats great\n",
            "How is that great?\n",
            "Some things just are<|endoftext|>\n",
            "New Yorkers say Mario the same way normal people say the word ‘stereo’ and i think thats great<|endoftext|>\n",
            "the club penguin staff would never treat their\n",
            "\n",
            "[1600 | 1490.46] loss=0.01 avg=0.05\n",
            "[1610 | 1514.26] loss=0.01 avg=0.05\n",
            "[1620 | 1538.01] loss=0.01 avg=0.05\n",
            "[1630 | 1561.69] loss=0.01 avg=0.05\n",
            "[1640 | 1585.34] loss=0.01 avg=0.05\n",
            "[1650 | 1609.01] loss=0.01 avg=0.05\n",
            "[1660 | 1632.68] loss=0.01 avg=0.05\n",
            "[1670 | 1656.33] loss=0.01 avg=0.05\n",
            "[1680 | 1679.99] loss=0.01 avg=0.05\n",
            "[1690 | 1703.69] loss=0.01 avg=0.05\n",
            "Saving checkpoint/run1/model-1700\n",
            "[1700 | 1731.10] loss=0.01 avg=0.05\n",
            "[1710 | 1754.81] loss=0.01 avg=0.04\n",
            "[1720 | 1778.65] loss=0.01 avg=0.04\n",
            "[1730 | 1802.33] loss=0.01 avg=0.04\n",
            "[1740 | 1825.99] loss=0.01 avg=0.04\n",
            "[1750 | 1849.66] loss=0.01 avg=0.04\n",
            "[1760 | 1873.35] loss=0.01 avg=0.04\n",
            "[1770 | 1897.07] loss=0.01 avg=0.04\n",
            "[1780 | 1920.82] loss=0.01 avg=0.04\n",
            "[1790 | 1944.61] loss=0.01 avg=0.04\n",
            "Saving checkpoint/run1/model-1800\n",
            "======== SAMPLE 1 ========\n",
            "><|endoftext|>\n",
            "Sometimes i look at the moon and im reminded “oh yeah, thats the most beautiful thing ive ever seen”<|endoftext|>\n",
            "Where the shit do people online shop? who here fashionable? give me your secrets<|endoftext|>\n",
            "Cool, new smash bros content the day my switch is stolen :) time to die<|endoftext|>\n",
            "I think we should make it illegal to be mean to me whos with me\n",
            "Not me\n",
            "In my new world you’d be put to death for such indiscretions<|endoftext|>\n",
            "I think we should make it illegal to be mean to me whos with me<|endoftext|>\n",
            "New Yorkers say Mario the same way normal people say the word ‘stereo’ and i think thats great\n",
            "How is that great?\n",
            "Some things just are<|endoftext|>\n",
            "New Yorkers say Mario the same way normal people say the word ‘stereo’ and i think thats great<|endoftext|>\n",
            "the club penguin staff would never treat their users like this is all im saying<|endoftext|>\n",
            "do you ever just want to flush yourself down the toilet because u realise u are a piece of shit<|endoftext|>\n",
            "me taking a selfie<|endoftext|>\n",
            "when your parents break a promise<|endoftext|>\n",
            "i hate when things happen!<|endoftext|>\n",
            "when ur not getting enough attention from ur followers<|endoftext|>\n",
            "my anaconda don’t want none unless u got hot cross buns hot cross buns one a penny two a penny hot cross buns<|endoftext|>\n",
            "Me: *finally finds peace and happiness in life*\n",
            "That bullshit:<|endoftext|>\n",
            "u still use a nokia?? haha loser btw how was bingo night did u remember to take ur medication?<|endoftext|>\n",
            "romanticize me being ugly<|endoftext|>\n",
            "naruto wouldn’t treat me like this<|endoftext|>\n",
            "dermatologists HATE me. everyone hates me. i’m so alone<|endoftext|>\n",
            "99.9% of the people on this website are stupid\n",
            "i am the 1%\n",
            "dumbass you mean 0.1%<|endoftext|>\n",
            "Ratatouille was a forgettable film<|endoftext|>\n",
            "what if a bobcat had a bob cut\n",
            "that bob cat is out on the prowl for the manager<|endoftext|>\n",
            "i been dying for a minute\n",
            "You’ve been dying your whole life<|endoftext|>\n",
            "i eat the tools\n",
            "Stop it\n",
            "crumch<|endoftext|>\n",
            "Eat Fruit Or Die Trying<|endoftext|>\n",
            "y’oint\n",
            "y’yint’ve’mst\n",
            "what does this mean\n",
            "it’s more about the emotion it invokes<|endoftext|>\n",
            "*MICKEY MOUSE VOICE* YOURE ABOUT TO EXPERIENCE THE WRATH OF A GOD<|endoftext|>\n",
            "Honestly I’m convinced isn’t even a real person. I feel like if I saw him irl I’d black out instantly and wake up three days later in an abandoned Ikea<|endoftext|>\n",
            "girl on the bus next to me: ive only eaten things that start with b today\n",
            "that is how i want to live my life\n",
            "She was warning you about the fate of the bus you were all in<|endoftext|>\n",
            "just bought this tapeworm from etsy!\n",
            "where are you gonna keep it\n",
            ":)\n",
            "I don’t like this post very much<|endoftext|>\n",
            "not safe for frog haters<|endoftext|>\n",
            "Put Seth Everman in Smash<|endoftext|>\n",
            "Gets 3 XP for wandering into a corner of my bathroom I’ve technically never set a literal foot in before and I see the floating text ‘DISCOVERED: CHOLERA COLONY’ seemingly appear out of thin air before gently fading away<|endoftext|>\n",
            "*from computer speakers* vsauce, *from suddenly behind you* michael here\n",
            "*from inside your head* what if you were defenseless<|endoftext|>\n",
            "When you walk behind your group cuz u walm too fast but u end up kicking their heels\n",
            "walm\n",
            "walm\n",
            "walm\n",
            "walm\n",
            "walm\n",
            "get his ass<|endoftext|>\n",
            "i refuse\n",
            "\n",
            "[1800 | 1983.82] loss=0.00 avg=0.04\n",
            "[1810 | 2007.60] loss=0.01 avg=0.04\n",
            "[1820 | 2031.38] loss=0.01 avg=0.04\n",
            "[1830 | 2055.13] loss=0.00 avg=0.04\n",
            "[1840 | 2078.85] loss=0.01 avg=0.04\n",
            "[1850 | 2102.57] loss=0.01 avg=0.04\n",
            "[1860 | 2126.26] loss=0.01 avg=0.04\n",
            "[1870 | 2149.90] loss=0.01 avg=0.04\n",
            "[1880 | 2173.58] loss=0.01 avg=0.03\n",
            "[1890 | 2197.24] loss=0.01 avg=0.03\n",
            "Saving checkpoint/run1/model-1900\n",
            "[1900 | 2224.77] loss=0.00 avg=0.03\n",
            "[1910 | 2248.51] loss=0.00 avg=0.03\n",
            "[1920 | 2272.39] loss=0.01 avg=0.03\n",
            "[1930 | 2296.09] loss=0.01 avg=0.03\n",
            "[1940 | 2319.75] loss=0.02 avg=0.03\n",
            "[1950 | 2343.40] loss=0.01 avg=0.03\n",
            "[1960 | 2367.07] loss=0.01 avg=0.03\n",
            "[1970 | 2390.78] loss=0.01 avg=0.03\n",
            "[1980 | 2414.49] loss=0.01 avg=0.03\n",
            "[1990 | 2438.21] loss=0.01 avg=0.03\n",
            "Saving checkpoint/run1/model-2000\n"
          ],
          "name": "stdout"
        }
      ]
    },
    {
      "metadata": {
        "id": "IXSuTNERaw6K",
        "colab_type": "text"
      },
      "cell_type": "markdown",
      "source": [
        "After the model is trained, you can copy the checkpoint folder to your own Google Drive.\n",
        "\n",
        "If you want to download it to your personal computer, it's strongly recommended you copy it there first, then download from Google Drive."
      ]
    },
    {
      "metadata": {
        "id": "VHdTL8NDbAh3",
        "colab_type": "code",
        "colab": {}
      },
      "cell_type": "code",
      "source": [
        "gpt2.copy_checkpoint_to_gdrive()"
      ],
      "execution_count": 0,
      "outputs": []
    },
    {
      "metadata": {
        "id": "qQJgV_b4bmzd",
        "colab_type": "text"
      },
      "cell_type": "markdown",
      "source": [
        "You're done! Feel free to go to the **Generate Text From The Trained Model** section to generate text based on your retrained model."
      ]
    },
    {
      "metadata": {
        "id": "pel-uBULXO2L",
        "colab_type": "text"
      },
      "cell_type": "markdown",
      "source": [
        "## Load a Trained Model Checkpoint\n",
        "\n",
        "Running the next cell will copy the `checkpoint` folder from your Google Drive into the Colaboratory VM."
      ]
    },
    {
      "metadata": {
        "id": "DCcx5u7sbPTD",
        "colab_type": "code",
        "colab": {}
      },
      "cell_type": "code",
      "source": [
        "gpt2.copy_checkpoint_from_gdrive()"
      ],
      "execution_count": 0,
      "outputs": []
    },
    {
      "metadata": {
        "id": "RTa6zf3e_9gV",
        "colab_type": "text"
      },
      "cell_type": "markdown",
      "source": [
        "The next cell will allow you to load the retrained model checkpoint + metadata necessary to generate text.\n",
        "\n",
        "**IMPORTANT NOTE:** If you want to rerun this cell, **restart the VM first** (Runtime -> Restart Runtime). You will need to rerun imports but not recopy files."
      ]
    },
    {
      "metadata": {
        "id": "-fxL77nvAMAX",
        "colab_type": "code",
        "outputId": "9c3071e0-35a1-4897-8cd2-77f4e25355c5",
        "colab": {
          "base_uri": "https://localhost:8080/",
          "height": 377
        }
      },
      "cell_type": "code",
      "source": [
        "sess = gpt2.start_tf_sess()\n",
        "gpt2.load_gpt2(sess)"
      ],
      "execution_count": 0,
      "outputs": [
        {
          "output_type": "stream",
          "text": [
            "WARNING:tensorflow:From /usr/local/lib/python3.6/dist-packages/tensorflow/python/framework/op_def_library.py:263: colocate_with (from tensorflow.python.framework.ops) is deprecated and will be removed in a future version.\n",
            "Instructions for updating:\n",
            "Colocations handled automatically by placer.\n",
            "WARNING:tensorflow:From /usr/local/lib/python3.6/dist-packages/gpt_2_simple/src/sample.py:51: to_float (from tensorflow.python.ops.math_ops) is deprecated and will be removed in a future version.\n",
            "Instructions for updating:\n",
            "Use tf.cast instead.\n",
            "WARNING:tensorflow:From /usr/local/lib/python3.6/dist-packages/gpt_2_simple/src/sample.py:53: multinomial (from tensorflow.python.ops.random_ops) is deprecated and will be removed in a future version.\n",
            "Instructions for updating:\n",
            "Use tf.random.categorical instead.\n",
            "WARNING:tensorflow:From /usr/local/lib/python3.6/dist-packages/tensorflow/python/ops/math_ops.py:3066: to_int32 (from tensorflow.python.ops.math_ops) is deprecated and will be removed in a future version.\n",
            "Instructions for updating:\n",
            "Use tf.cast instead.\n",
            "WARNING:tensorflow:From /usr/local/lib/python3.6/dist-packages/tensorflow/python/ops/math_grad.py:102: div (from tensorflow.python.ops.math_ops) is deprecated and will be removed in a future version.\n",
            "Instructions for updating:\n",
            "Deprecated in favor of operator or tf.math.divide.\n",
            "Loading checkpoint checkpoint/run1/model-1000\n",
            "WARNING:tensorflow:From /usr/local/lib/python3.6/dist-packages/tensorflow/python/training/saver.py:1266: checkpoint_exists (from tensorflow.python.training.checkpoint_management) is deprecated and will be removed in a future version.\n",
            "Instructions for updating:\n",
            "Use standard file APIs to check for files with this prefix.\n",
            "INFO:tensorflow:Restoring parameters from checkpoint/run1/model-1000\n"
          ],
          "name": "stdout"
        }
      ]
    },
    {
      "metadata": {
        "id": "ClJwpF_ACONp",
        "colab_type": "text"
      },
      "cell_type": "markdown",
      "source": [
        "## Generate Text From The Trained Model\n",
        "\n",
        "After you've trained the model or loaded a retrained model from checkpoint, you can now generate text. `generate` generates a single text with a temperature of `0.7` and a max length of `1023` tokens."
      ]
    },
    {
      "metadata": {
        "id": "4RNY6RBI9LmL",
        "colab_type": "code",
        "outputId": "8a27d2a6-a959-40cb-fea4-54bb7d549403",
        "colab": {
          "base_uri": "https://localhost:8080/",
          "height": 1465
        }
      },
      "cell_type": "code",
      "source": [
        "gpt2.generate(sess)"
      ],
      "execution_count": 0,
      "outputs": [
        {
          "output_type": "stream",
          "text": [
            "reblog if you don’t want to watch a family guy funny moments compilation\n",
            "the best moments from youtube are the ones that start and end with “ah”\n",
            "this one\n",
            "vote this post for your favorite character\n",
            "vote this post for your favorite character\n",
            "vote this post for your favorite character\n",
            "vote this post for your favorite character\n",
            "vote this post for your favorite character\n",
            "vote this post for your favorite character\n",
            "vote this post for your favorite character\n",
            "vote this post for your favorite character\n",
            "vote this post for your favorite character\n",
            "vote this post for your favorite character\n",
            "vote this post for your favorite character\n",
            "vote this post for your favorite character\n",
            "vote this post for your favorite character\n",
            "vote this post for your favorite character\n",
            "vote this post for your favorite character\n",
            "vote this post for your favorite character\n",
            "vote this post for your favorite character\n",
            "vote this post for your favorite character\n",
            "vote this post for your favorite character\n",
            "vote this post for your favorite character\n",
            "vote this post for your favorite character\n",
            "vote this post for your favorite character\n",
            "vote this post for your favorite character\n",
            "vote this post for your favorite character\n",
            "vote this post for your favorite character\n",
            "vote this post for your favorite character\n",
            "vote this post for your favorite character\n",
            "vote this post for your favorite character\n",
            "vote this post for your favorite character\n",
            "vote this post for your favorite character\n",
            "vote this post for your favorite character\n",
            "vote this post for your favorite character\n",
            "vote this post for your favorite character\n",
            "vote this post for your favorite character\n",
            "cute face emoji\n",
            "*size doesn’t fit ”*does it have those big, fat, “aquilines” glands?”\n",
            "I hope my body didn’t take too long to understand that I was fictionalized creatures\n",
            "imagine a burger saying this haha\n",
            "when someone says “nobody”\n",
            "when the burger says “nobody”\n",
            "When someone says “nobody”\n",
            "when someone says “wu-gods”\n",
            "when someone says “wu-gods”\n",
            "when someone says “nobody”\n",
            "u know what? imma hold my own hand 😤\n",
            "when u see a cow there’s no hand but you hold mine 😩\n",
            "handjobvice.com\n",
            "milk fetish websites have probably been the most popular site on this site for a while. maybe it’s because their milk is considered weirdo grade 1. maybe it’s just because some of you are younger than i am and want to make a bunch of money off of the feta cheese you’re just being a complete asshole\n",
            "my milkshake brings all the kids to the yard\n",
            "but you have no idea\n",
            "i mean if you’re not 5 then what the fuck are you doing\n",
            "son of a bitch: *cries in pain*\n",
            "Me: *falls down stairs*\n",
            "me: *falls down stairs*\n",
            "You know what sucks: being a cunt, being a cunt.\n",
            "Honestly, it’s a significantly better experience\n",
            "A friend in medical school is like a lost child: we’re online, we’re not online.\n",
            "A friend in medical school is like a lost child: we’re online, we’re not online.\n",
            "A friend in medical school is like a lost child: we’re online, we’re not online.\n",
            "My milkshake brings all the kids to the yard\n",
            "But you have no idea\n",
            "i mean if you’re not 5, you’re probably in a mental state where you’re either numb to problems or numb to doing something about them\n",
            "cousin says “that’s a mama” to your problem\n",
            "a family friend who works with corporations said “yeah, that’s a corporate mama” to their kid\n",
            "your problem is that they don’t give you the context in which you would like to talk to them\n",
            "family friend who works with corporations said “yeah, that’s a corporate mama” to their kid\n",
            "i mean if i’m stressed out I might be stressing my kid out too\n",
            "That’s how stressed I am\n",
            "I mean if my therapist sees me like this:\n",
            "STOP SCREAMING IM FUCKIN ASSHOLES\n",
            "STOP SCREAMING IM FUCKING ASSHOLES\n",
            "STOP SCREAMING IM FUCKING ASSHOLES\n",
            "im like 2nd grade and i’m the biggest deal on this shit\n",
            "tumblr prom with my rugman idk what to say next time i hope he’ll like my post\n",
            "[trying to play video chat on my phone while watching a movie]\n",
            "HD movies are getting really out of hand.\n",
            "my phone: haha i love my charger\n",
            "Me: how are your grades\n",
            "phone: really good\n",
            "\n",
            "\n"
          ],
          "name": "stdout"
        }
      ]
    },
    {
      "metadata": {
        "id": "oF4-PqF0Fl7R",
        "colab_type": "text"
      },
      "cell_type": "markdown",
      "source": [
        "If you're creating an API based on your model and need to pass the generated text elsewhere, you can do `text = gpt2.generate(sess, return_as_list=True)[0]`\n",
        "\n",
        "You can also pass in a `prefix` to the generate function to force the text to start with a given character sequence (good if you add an indicator when the text starts).\n",
        "\n",
        "You can also generate multiple texts at a time by specifing `nsamples`. Unique to GPT-2, you can pass a `batch_size` to generate multiple samples in parallel, giving a massive speedup."
      ]
    },
    {
      "metadata": {
        "id": "8DKMc0fiej4N",
        "colab_type": "code",
        "outputId": "2a433179-5b75-4848-f45d-122c26df2ffd",
        "colab": {
          "base_uri": "https://localhost:8080/",
          "height": 1819
        }
      },
      "cell_type": "code",
      "source": [
        "gpt2.generate(sess,\n",
        "              length=250,\n",
        "              temperature=0.7,\n",
        "              prefix=\"LORD\",\n",
        "              nsamples=5,\n",
        "              batch_size=5\n",
        "              )"
      ],
      "execution_count": 0,
      "outputs": [
        {
          "output_type": "stream",
          "text": [
            "LORD: *looks into camera*\n",
            "YOUNG WOMAN: I’m not\n",
            "STOP HER BEING A PIECE OF HARRY POTTER FOR THE MAGICAL POWER OF THE SPIRIT\n",
            "imagine a world where diseases are non-existent\n",
            "FACT CHECKS ME OUT!\n",
            "Striking for the honor of appearing in TWENTY I’VE HAD A LITTLE LIFE KID WHERE WAS A LITTLE LIFE\n",
            "I was in a LANE that day and I ran into a guy who was like 4 times my age and I thought he saw me so he looked me up and he said “LOOK” and i just started screaming\n",
            "fucking screaming\n",
            "DYING WITH ME OLD TWENTY DID I NOT GET A FUCKING LIFE\n",
            "Ya I was drinking coffee\n",
            "LISTEN UP DONYMOUS:\n",
            "Ladies,\n",
            "It is because I’m a tumblr bitch\n",
            "I’m feeling depressed and I’m writing this blog because I’m not a woman\n",
            "I’m in a meeting where the female programming is being taught and one of the female programmers is working on it. I start laughing\n",
            "====================\n",
            "\n",
            "LORD’S EXISTENCE!\n",
            "what if we were talking about a story about a haunted doll? i dont think thats accurate\n",
            "you can tell someone is talking in a very disturbing way by the way they talk.\n",
            "*wears a bullet proof vest and masks himself*\n",
            "“He’s been walking for 45 minutes w/ no stanchions”\n",
            "this is disturbingly close to being real\n",
            "*a glass tube appears in his mouth and sucks his saliva*\n",
            "“He’s been running for his life w/ the glass tube.”\n",
            "this is disturbingly close to being real\n",
            "*a glass tube appears in his mouth and sucks his saliva*\n",
            "“He’s been running for his life w/ the glass tube.”\n",
            "this is disturbingly close to being real\n",
            "*a glass tube appears in his mouth and sucks his saliva*\n",
            "“He’s been running for his life w/ the glass tube.”\n",
            "i have been craving orange juice this entire life so i now have to be a part of the citrus revolution\n",
            "*glass tube appears in his mouth and sucks his saliva*\n",
            "“He’s been running for\n",
            "====================\n",
            "\n",
            "LORD’S BITCHES HAVE A BITCHES TO MEANING TO ME\n",
            "Hilda is a nurse who is as lonely as a lonely nurse.\n",
            "I’m trying to rebuild my life and I’m trying to think of a good things/bad things thing to say that made me stop using it.\n",
            "I’ve been on twitter for 3 hours today.\n",
            "I’m sorry. I’ve been there.\n",
            "My Mom just said “FUCK” and threw a wrench in my life\n",
            "My dad, who was a lawyer, said he was a lawyer\n",
            "You can say the word spinach and I’ll be like “flip flops”\n",
            "my mom said i needed a shower but she went on her way\n",
            "i’m a pussy\n",
            "I would have been even more depressed\n",
            "Happy April fools day if i’m not wrong\n",
            "p.s.\n",
            "I ain’t no longer trying to ruin my life but I’m too scared to be afraid\n",
            "I was just speaking to my friend about a Potter book she was reading. One of the professors said they should read the Dementia series before they started reading\n",
            "====================\n",
            "\n",
            "LORD: *is literally crying*\n",
            "That’s the sound of the rain\n",
            "Who wants to have the time of their lives.\n",
            "I have a few ideas for a new series and I have to write it off as a Dumbass joke\n",
            "Like what?\n",
            "TV Tropes:\n",
            "*slaps a table*\n",
            "-Literally no sex or fun at all to me.\n",
            "Me: You don’t even know what a slut I am. I just have a bunch of big-ass titties in my ass.\n",
            "-Literally no sex or fun to me.\n",
            "Expand for the facts\n",
            "I’ve made it clear I don’t view this as a trend, it’s just the kind of thing to aspire to, even if I do have a question.\n",
            "a guy in my mid-30s: when I walk by a store, I wear a girl’s number on my lapel and, when I ask a girl out, I just…\n",
            "keep putting “dʼs” in lowercase “s”\n",
            "my mind: this is a picture of a duck with a mouth\n",
            "me: a picture of duck\n",
            "AIDS\n",
            "====================\n",
            "\n",
            "LORD: *slams doorbell*\n",
            "SIR: I don’t know why I was sent here.\n",
            "ZOMBIE:\n",
            "STOP FREAKING UP ELSE\n",
            "BOYFRIEND\n",
            "BOYFRIEND\n",
            "BOYFRIEND\n",
            "BASKETBALL\n",
            "BOYFRIEND BASS\n",
            "BOYFRIEND BASS\n",
            "BOYFRIEND BASS\n",
            "BOYFRIEND BASS\n",
            "BOYFRIEND BASS\n",
            "BOYFRIEND BASS\n",
            "BOYFRIEND BASS\n",
            "BOYFRIEND BASS\n",
            "BOYFRIEND BASS\n",
            "BOYFRIEND BASS\n",
            "BOYFRIEND BASS\n",
            "BOYFRIEND BASS\n",
            "BOYFRIEND BASS\n",
            "BOYFRIEND BASS\n",
            "BOYFRIEND BASS\n",
            "BOYFRIEND BASS\n",
            "BOYFRIEND BASS\n",
            "BOYFRIEND BASS\n",
            "BOYFRIEND BASS\n",
            "BOYFRIEND BASS\n",
            "BOYFRIEND BASS\n",
            "BOYFRIEND BASS\n",
            "BOYFRIEND BASS\n",
            "BOYF\n",
            "====================\n",
            "\n"
          ],
          "name": "stdout"
        }
      ]
    },
    {
      "metadata": {
        "id": "zjjEN2Tafhl2",
        "colab_type": "text"
      },
      "cell_type": "markdown",
      "source": [
        "For bulk generation, you can generate text to a file and sort out the samples locally on your computer. The next cell will generate a generated text file with a unique timestamp and then download it.\n",
        "\n",
        "NB: For Colaboratory's K80 GPU, I recommend capping the `batch_size` at 20."
      ]
    },
    {
      "metadata": {
        "id": "Fa6p6arifSL0",
        "colab_type": "code",
        "colab": {}
      },
      "cell_type": "code",
      "source": [
        "gen_file = 'gpt2_gentext_{:%Y%m%d_%H%M%S}.txt'.format(datetime.utcnow())\n",
        "\n",
        "gpt2.generate_to_file(sess,\n",
        "                      destination_path=gen_file,\n",
        "                      length=500,\n",
        "                      temperature=0.7,\n",
        "                      nsamples=100,\n",
        "                      batch_size=20\n",
        "                      )\n",
        "\n",
        "files.download(gen_file)"
      ],
      "execution_count": 0,
      "outputs": []
    },
    {
      "metadata": {
        "id": "92Zjtsb_Dgj-",
        "colab_type": "text"
      },
      "cell_type": "markdown",
      "source": [
        "# Etcetera"
      ]
    },
    {
      "metadata": {
        "id": "ig-KVgkCDCKD",
        "colab_type": "text"
      },
      "cell_type": "markdown",
      "source": [
        "If the notebook has errors (e.g. GPU Sync Fail), force-kill the Colaboratory virtual machine and restart it with the command below:"
      ]
    },
    {
      "metadata": {
        "id": "rIHiVP53FnsX",
        "colab_type": "code",
        "colab": {}
      },
      "cell_type": "code",
      "source": [
        "!kill -9 -1"
      ],
      "execution_count": 0,
      "outputs": []
    },
    {
      "metadata": {
        "id": "wmTXWNUygS5E",
        "colab_type": "text"
      },
      "cell_type": "markdown",
      "source": [
        "# LICENSE\n",
        "\n",
        "MIT License\n",
        "\n",
        "Copyright (c) 2019 Max Woolf\n",
        "\n",
        "Permission is hereby granted, free of charge, to any person obtaining a copy\n",
        "of this software and associated documentation files (the \"Software\"), to deal\n",
        "in the Software without restriction, including without limitation the rights\n",
        "to use, copy, modify, merge, publish, distribute, sublicense, and/or sell\n",
        "copies of the Software, and to permit persons to whom the Software is\n",
        "furnished to do so, subject to the following conditions:\n",
        "\n",
        "The above copyright notice and this permission notice shall be included in all\n",
        "copies or substantial portions of the Software.\n",
        "\n",
        "THE SOFTWARE IS PROVIDED \"AS IS\", WITHOUT WARRANTY OF ANY KIND, EXPRESS OR\n",
        "IMPLIED, INCLUDING BUT NOT LIMITED TO THE WARRANTIES OF MERCHANTABILITY,\n",
        "FITNESS FOR A PARTICULAR PURPOSE AND NONINFRINGEMENT. IN NO EVENT SHALL THE\n",
        "AUTHORS OR COPYRIGHT HOLDERS BE LIABLE FOR ANY CLAIM, DAMAGES OR OTHER\n",
        "LIABILITY, WHETHER IN AN ACTION OF CONTRACT, TORT OR OTHERWISE, ARISING FROM,\n",
        "OUT OF OR IN CONNECTION WITH THE SOFTWARE OR THE USE OR OTHER DEALINGS IN THE\n",
        "SOFTWARE."
      ]
    }
  ]
}